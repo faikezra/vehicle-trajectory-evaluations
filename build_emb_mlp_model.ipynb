{
  "nbformat": 4,
  "nbformat_minor": 0,
  "metadata": {
    "colab": {
      "name": "build_emb_mlp_model.ipynb",
      "version": "0.3.2",
      "provenance": [],
      "collapsed_sections": []
    },
    "kernelspec": {
      "name": "python3",
      "display_name": "Python 3"
    },
    "accelerator": "GPU"
  },
  "cells": [
    {
      "cell_type": "code",
      "metadata": {
        "id": "m3l77L18DhbD",
        "colab_type": "code",
        "outputId": "c33dd6bf-9c41-410b-f0b9-b33978e64cdc",
        "colab": {
          "base_uri": "https://localhost:8080/",
          "height": 34
        }
      },
      "source": [
        "from keras.models import Model\n",
        "from keras.layers import Input\n",
        "from keras.layers import Embedding\n",
        "from keras.layers import Concatenate\n",
        "from keras.layers import Dense\n",
        "from keras.layers import Flatten\n",
        "from keras.layers import Activation\n",
        "from keras.optimizers import SGD\n",
        "from sklearn.preprocessing import scale\n",
        "import matplotlib.pyplot as plt\n",
        "import keras.backend as K\n",
        "import tensorflow as tf\n",
        "import seaborn as sns\n",
        "import pandas as pd\n",
        "import numpy as np"
      ],
      "execution_count": 0,
      "outputs": [
        {
          "output_type": "stream",
          "text": [
            "Using TensorFlow backend.\n"
          ],
          "name": "stderr"
        }
      ]
    },
    {
      "cell_type": "code",
      "metadata": {
        "id": "0xkJLnlKzugD",
        "colab_type": "code",
        "outputId": "a3c7d26d-bd1d-44f7-941d-8323b8f570f2",
        "colab": {
          "base_uri": "https://localhost:8080/",
          "height": 394
        }
      },
      "source": [
        "data = pd.read_pickle('drive/My Drive/treject/mlp_feed.pkl')  \n",
        "clusters = np.loadtxt('drive/My Drive/treject/cluster_centers.txt')\n",
        "# see what final features look like\n",
        "data.head()"
      ],
      "execution_count": 0,
      "outputs": [
        {
          "output_type": "execute_result",
          "data": {
            "text/html": [
              "<div>\n",
              "<style scoped>\n",
              "    .dataframe tbody tr th:only-of-type {\n",
              "        vertical-align: middle;\n",
              "    }\n",
              "\n",
              "    .dataframe tbody tr th {\n",
              "        vertical-align: top;\n",
              "    }\n",
              "\n",
              "    .dataframe thead th {\n",
              "        text-align: right;\n",
              "    }\n",
              "</style>\n",
              "<table border=\"1\" class=\"dataframe\">\n",
              "  <thead>\n",
              "    <tr style=\"text-align: right;\">\n",
              "      <th></th>\n",
              "      <th>TRIP_ID</th>\n",
              "      <th>CALL_TYPE</th>\n",
              "      <th>ORIGIN_CALL</th>\n",
              "      <th>ORIGIN_STAND</th>\n",
              "      <th>TAXI_ID</th>\n",
              "      <th>DAY_TYPE</th>\n",
              "      <th>MISSING_DATA</th>\n",
              "      <th>POLYLINE</th>\n",
              "      <th>RIDE_DURATION</th>\n",
              "      <th>TIME</th>\n",
              "      <th>WEEK_OF_YEAR</th>\n",
              "      <th>DAY_OF_WEEK</th>\n",
              "      <th>QUARTER_HOUR</th>\n",
              "      <th>LAT_1</th>\n",
              "      <th>LAT_2</th>\n",
              "      <th>LAT_3</th>\n",
              "      <th>LAT_4</th>\n",
              "      <th>LAT_5</th>\n",
              "      <th>LAT_6</th>\n",
              "      <th>LAT_7</th>\n",
              "      <th>LAT_8</th>\n",
              "      <th>LAT_9</th>\n",
              "      <th>LAT_10</th>\n",
              "      <th>LNG_1</th>\n",
              "      <th>LNG_2</th>\n",
              "      <th>LNG_3</th>\n",
              "      <th>LNG_4</th>\n",
              "      <th>LNG_5</th>\n",
              "      <th>LNG_6</th>\n",
              "      <th>LNG_7</th>\n",
              "      <th>LNG_8</th>\n",
              "      <th>LNG_9</th>\n",
              "      <th>LNG_10</th>\n",
              "      <th>TARGET_LAT</th>\n",
              "      <th>TARGET_LNG</th>\n",
              "    </tr>\n",
              "  </thead>\n",
              "  <tbody>\n",
              "    <tr>\n",
              "      <th>0</th>\n",
              "      <td>1372636858620000589</td>\n",
              "      <td>2</td>\n",
              "      <td>0</td>\n",
              "      <td>0</td>\n",
              "      <td>366</td>\n",
              "      <td>0</td>\n",
              "      <td>False</td>\n",
              "      <td>[[-8.618643,41.141412],[-8.618499,41.141376],[...</td>\n",
              "      <td>345</td>\n",
              "      <td>2013-07-01 00:00:58</td>\n",
              "      <td>27</td>\n",
              "      <td>0</td>\n",
              "      <td>0.0</td>\n",
              "      <td>-8.618643</td>\n",
              "      <td>-8.618499</td>\n",
              "      <td>-8.620326</td>\n",
              "      <td>-8.622153</td>\n",
              "      <td>-8.623953</td>\n",
              "      <td>-8.632323</td>\n",
              "      <td>-8.631144</td>\n",
              "      <td>-8.630829</td>\n",
              "      <td>-8.630829</td>\n",
              "      <td>-8.630829</td>\n",
              "      <td>41.141412</td>\n",
              "      <td>41.141376</td>\n",
              "      <td>41.142510</td>\n",
              "      <td>41.143815</td>\n",
              "      <td>41.144373</td>\n",
              "      <td>41.153022</td>\n",
              "      <td>41.154489</td>\n",
              "      <td>41.154507</td>\n",
              "      <td>41.154516</td>\n",
              "      <td>41.154498</td>\n",
              "      <td>-8.630838</td>\n",
              "      <td>41.154489</td>\n",
              "    </tr>\n",
              "    <tr>\n",
              "      <th>1</th>\n",
              "      <td>1372637303620000596</td>\n",
              "      <td>1</td>\n",
              "      <td>0</td>\n",
              "      <td>7</td>\n",
              "      <td>370</td>\n",
              "      <td>0</td>\n",
              "      <td>False</td>\n",
              "      <td>[[-8.639847,41.159826],[-8.640351,41.159871],[...</td>\n",
              "      <td>285</td>\n",
              "      <td>2013-07-01 00:08:23</td>\n",
              "      <td>27</td>\n",
              "      <td>0</td>\n",
              "      <td>0.0</td>\n",
              "      <td>-8.639847</td>\n",
              "      <td>-8.640351</td>\n",
              "      <td>-8.642196</td>\n",
              "      <td>-8.644455</td>\n",
              "      <td>-8.646921</td>\n",
              "      <td>-8.670942</td>\n",
              "      <td>-8.669610</td>\n",
              "      <td>-8.668098</td>\n",
              "      <td>-8.666640</td>\n",
              "      <td>-8.665767</td>\n",
              "      <td>41.159826</td>\n",
              "      <td>41.159871</td>\n",
              "      <td>41.160114</td>\n",
              "      <td>41.160492</td>\n",
              "      <td>41.160951</td>\n",
              "      <td>41.166576</td>\n",
              "      <td>41.167962</td>\n",
              "      <td>41.168988</td>\n",
              "      <td>41.170005</td>\n",
              "      <td>41.170635</td>\n",
              "      <td>-8.665740</td>\n",
              "      <td>41.170671</td>\n",
              "    </tr>\n",
              "    <tr>\n",
              "      <th>2</th>\n",
              "      <td>1372636951620000320</td>\n",
              "      <td>2</td>\n",
              "      <td>0</td>\n",
              "      <td>0</td>\n",
              "      <td>203</td>\n",
              "      <td>0</td>\n",
              "      <td>False</td>\n",
              "      <td>[[-8.612964,41.140359],[-8.613378,41.14035],[-...</td>\n",
              "      <td>975</td>\n",
              "      <td>2013-07-01 00:02:31</td>\n",
              "      <td>27</td>\n",
              "      <td>0</td>\n",
              "      <td>0.0</td>\n",
              "      <td>-8.612964</td>\n",
              "      <td>-8.613378</td>\n",
              "      <td>-8.614215</td>\n",
              "      <td>-8.614773</td>\n",
              "      <td>-8.615907</td>\n",
              "      <td>-8.625996</td>\n",
              "      <td>-8.624088</td>\n",
              "      <td>-8.621325</td>\n",
              "      <td>-8.619444</td>\n",
              "      <td>-8.617365</td>\n",
              "      <td>41.140359</td>\n",
              "      <td>41.140350</td>\n",
              "      <td>41.140278</td>\n",
              "      <td>41.140368</td>\n",
              "      <td>41.140449</td>\n",
              "      <td>41.144769</td>\n",
              "      <td>41.144463</td>\n",
              "      <td>41.143401</td>\n",
              "      <td>41.141961</td>\n",
              "      <td>41.140863</td>\n",
              "      <td>-8.615970</td>\n",
              "      <td>41.140530</td>\n",
              "    </tr>\n",
              "    <tr>\n",
              "      <th>3</th>\n",
              "      <td>1372636854620000520</td>\n",
              "      <td>2</td>\n",
              "      <td>0</td>\n",
              "      <td>0</td>\n",
              "      <td>329</td>\n",
              "      <td>0</td>\n",
              "      <td>False</td>\n",
              "      <td>[[-8.574678,41.151951],[-8.574705,41.151942],[...</td>\n",
              "      <td>645</td>\n",
              "      <td>2013-07-01 00:00:54</td>\n",
              "      <td>27</td>\n",
              "      <td>0</td>\n",
              "      <td>0.0</td>\n",
              "      <td>-8.574678</td>\n",
              "      <td>-8.574705</td>\n",
              "      <td>-8.574696</td>\n",
              "      <td>-8.574660</td>\n",
              "      <td>-8.574723</td>\n",
              "      <td>-8.607951</td>\n",
              "      <td>-8.607978</td>\n",
              "      <td>-8.607996</td>\n",
              "      <td>-8.607987</td>\n",
              "      <td>-8.608005</td>\n",
              "      <td>41.151951</td>\n",
              "      <td>41.151942</td>\n",
              "      <td>41.151933</td>\n",
              "      <td>41.151960</td>\n",
              "      <td>41.151933</td>\n",
              "      <td>41.142753</td>\n",
              "      <td>41.142825</td>\n",
              "      <td>41.142879</td>\n",
              "      <td>41.142888</td>\n",
              "      <td>41.142915</td>\n",
              "      <td>-8.607996</td>\n",
              "      <td>41.142915</td>\n",
              "    </tr>\n",
              "    <tr>\n",
              "      <th>4</th>\n",
              "      <td>1372637091620000337</td>\n",
              "      <td>2</td>\n",
              "      <td>0</td>\n",
              "      <td>0</td>\n",
              "      <td>216</td>\n",
              "      <td>0</td>\n",
              "      <td>False</td>\n",
              "      <td>[[-8.645994,41.18049],[-8.645949,41.180517],[-...</td>\n",
              "      <td>435</td>\n",
              "      <td>2013-07-01 00:04:51</td>\n",
              "      <td>27</td>\n",
              "      <td>0</td>\n",
              "      <td>0.0</td>\n",
              "      <td>-8.645994</td>\n",
              "      <td>-8.645949</td>\n",
              "      <td>-8.646048</td>\n",
              "      <td>-8.646804</td>\n",
              "      <td>-8.649495</td>\n",
              "      <td>-8.689086</td>\n",
              "      <td>-8.689059</td>\n",
              "      <td>-8.687502</td>\n",
              "      <td>-8.687259</td>\n",
              "      <td>-8.687259</td>\n",
              "      <td>41.180490</td>\n",
              "      <td>41.180517</td>\n",
              "      <td>41.180049</td>\n",
              "      <td>41.178888</td>\n",
              "      <td>41.178465</td>\n",
              "      <td>41.176431</td>\n",
              "      <td>41.176593</td>\n",
              "      <td>41.176755</td>\n",
              "      <td>41.177781</td>\n",
              "      <td>41.178078</td>\n",
              "      <td>-8.687268</td>\n",
              "      <td>41.178087</td>\n",
              "    </tr>\n",
              "  </tbody>\n",
              "</table>\n",
              "</div>"
            ],
            "text/plain": [
              "               TRIP_ID  CALL_TYPE  ...  TARGET_LAT  TARGET_LNG\n",
              "0  1372636858620000589          2  ...   -8.630838   41.154489\n",
              "1  1372637303620000596          1  ...   -8.665740   41.170671\n",
              "2  1372636951620000320          2  ...   -8.615970   41.140530\n",
              "3  1372636854620000520          2  ...   -8.607996   41.142915\n",
              "4  1372637091620000337          2  ...   -8.687268   41.178087\n",
              "\n",
              "[5 rows x 35 columns]"
            ]
          },
          "metadata": {
            "tags": []
          },
          "execution_count": 2
        }
      ]
    },
    {
      "cell_type": "markdown",
      "metadata": {
        "id": "q7iJXRp17je9",
        "colab_type": "text"
      },
      "source": [
        "getting the data into the necessary format to feed to the neural network. Creating the Numpy Arrays to feed into the model"
      ]
    },
    {
      "cell_type": "code",
      "metadata": {
        "id": "ZN20AIYu7nri",
        "colab_type": "code",
        "colab": {}
      },
      "source": [
        "caller_data = np.array(data.ORIGIN_CALL)\n",
        "stand_data = np.array(data.ORIGIN_STAND)\n",
        "car_data = np.array(data.TAXI_ID)\n",
        "wk_of_year_data = np.array(data.WEEK_OF_YEAR)\n",
        "day_of_wk_data = np.array(data.DAY_OF_WEEK)\n",
        "qrt_hr_of_day_data = np.array(data.QUARTER_HOUR)\n",
        "day_type_data = np.array(data.DAY_TYPE)\n",
        "\n",
        "target_lat = np.array(data.TARGET_LAT)\n",
        "target_lng = np.array(data.TARGET_LNG)\n",
        "\n",
        "lat_data = []\n",
        "lng_data = []\n",
        "\n",
        "for i in range(len(data)):\n",
        "  \n",
        "  lat_temp = np.array([data['LAT_'+ str(j)][i] for j in range(1,11)])\n",
        "  lng_temp = np.array([data['LNG_'+ str(j)][i] for j in range(1,11)])\n",
        "  lat_data.append(lat_temp)\n",
        "  lng_data.append(lng_temp)"
      ],
      "execution_count": 0,
      "outputs": []
    },
    {
      "cell_type": "code",
      "metadata": {
        "id": "d1TeFWzYfIoX",
        "colab_type": "code",
        "colab": {}
      },
      "source": [
        "target = np.array([np.array([i,j]) for i, j in zip(target_lat, target_lng)])\n",
        "lat_data = np.array(lat_data)\n",
        "lng_data = np.array(lng_data)\n",
        "lat_ = lat_data\n",
        "lng_ = lng_data\n",
        "lat_data = scale(lat_data, axis=0, with_mean=True, with_std=True, copy=True)\n",
        "lng_data = scale(lng_data, axis=0, with_mean=True, with_std=True, copy=True)"
      ],
      "execution_count": 0,
      "outputs": []
    },
    {
      "cell_type": "markdown",
      "metadata": {
        "id": "sH3ZaOryc1C6",
        "colab_type": "text"
      },
      "source": [
        "Helper functions that set up the 'destination layer' and the loss function we will use using the Tensorflow backend."
      ]
    },
    {
      "cell_type": "code",
      "metadata": {
        "id": "NNEVZH6p2uuY",
        "colab_type": "code",
        "colab": {}
      },
      "source": [
        "def tf_haversine(latlon1, latlon2):\n",
        "    \"\"\"\n",
        "    Tensorflow version of the Haversine function to calculate distances between two sets of points.\n",
        "    \"\"\"\n",
        "    lat1 = latlon1[:, 0]\n",
        "    lon1 = latlon1[:, 1]\n",
        "    lat2 = latlon2[:, 0]\n",
        "    lon2 = latlon2[:, 1]\n",
        "\n",
        "    REarth = 6371\n",
        "    lat = tf.abs(lat1 - lat2) * np.pi / 180\n",
        "    lon = tf.abs(lon1 - lon2) * np.pi / 180\n",
        "    lat1 = lat1 * np.pi / 180\n",
        "    lat2 = lat2 * np.pi / 180\n",
        "    a = tf.sin(lat / 2) * tf.sin(lat / 2) + tf.cos(lat1) * tf.cos(lat2) * tf.sin(lon / 2) * tf.sin(lon / 2)\n",
        "    d = 2 * tf.atan2(tf.sqrt(a), tf.sqrt(1 - a))\n",
        "    return REarth * d\n",
        "  \n",
        "def destination(probabilities):\n",
        "  return tf.matmul(probabilities, cast_clusters) # Cast clusters will be a constant matrix of (Nx2)"
      ],
      "execution_count": 0,
      "outputs": []
    },
    {
      "cell_type": "markdown",
      "metadata": {
        "id": "wTiPIBG1Kjk4",
        "colab_type": "text"
      },
      "source": [
        "define input layers"
      ]
    },
    {
      "cell_type": "code",
      "metadata": {
        "id": "aUQWDgfEKlot",
        "colab_type": "code",
        "outputId": "50368bbf-04f7-4cf5-9a9a-c3e333b237d3",
        "colab": {
          "base_uri": "https://localhost:8080/",
          "height": 122
        }
      },
      "source": [
        "caller = Input(shape=(1,))\n",
        "stand  = Input(shape=(1,))\n",
        "car  = Input(shape=(1,))\n",
        "wk_of_year = Input(shape=(1,))\n",
        "day_of_wk = Input(shape=(1,))\n",
        "qrt_hr_of_day = Input(shape=(1,))\n",
        "day_type = Input(shape=(1,))\n",
        "lat = Input(shape=(10,))\n",
        "lng = Input(shape=(10,))\n",
        "trg = Input(shape=(2,))"
      ],
      "execution_count": 0,
      "outputs": [
        {
          "output_type": "stream",
          "text": [
            "WARNING: Logging before flag parsing goes to stderr.\n",
            "W0806 10:21:10.190352 140341230536576 deprecation_wrapper.py:119] From /usr/local/lib/python3.6/dist-packages/keras/backend/tensorflow_backend.py:74: The name tf.get_default_graph is deprecated. Please use tf.compat.v1.get_default_graph instead.\n",
            "\n",
            "W0806 10:21:10.208029 140341230536576 deprecation_wrapper.py:119] From /usr/local/lib/python3.6/dist-packages/keras/backend/tensorflow_backend.py:517: The name tf.placeholder is deprecated. Please use tf.compat.v1.placeholder instead.\n",
            "\n"
          ],
          "name": "stderr"
        }
      ]
    },
    {
      "cell_type": "markdown",
      "metadata": {
        "id": "6xcvFH8LICnK",
        "colab_type": "text"
      },
      "source": [
        "creating the embedding layer for the metadata, the embedding layer outputs are vectors of 10."
      ]
    },
    {
      "cell_type": "code",
      "metadata": {
        "id": "JP38wdZwEdCP",
        "colab_type": "code",
        "outputId": "f312411a-04af-4f57-f021-d13ef6346dd3",
        "colab": {
          "base_uri": "https://localhost:8080/",
          "height": 71
        }
      },
      "source": [
        "caller_embed = Embedding(57000,10,input_length=1)(caller)\n",
        "stand_embed = Embedding(64,10,input_length=1)(stand)\n",
        "car_embed = Embedding(448,10,input_length=1)(car)\n",
        "wk_of_year_embed = Embedding(54,10,input_length=1)(wk_of_year)\n",
        "day_of_wk_embed = Embedding(7,10,input_length=1)(day_of_wk)\n",
        "qrt_hr_of_day_embed = Embedding(96,10,input_length=1)(qrt_hr_of_day)\n",
        "day_type_embed = Embedding(3,10,input_length=1)(day_type)\n",
        "\n",
        "# flatten\n",
        "caller_embed = Flatten()(caller_embed)\n",
        "stand_embed = Flatten()(stand_embed)\n",
        "car_embed = Flatten()(car_embed)\n",
        "wk_of_year_embed = Flatten()(wk_of_year_embed)\n",
        "day_of_wk_embed = Flatten()(day_of_wk_embed)\n",
        "qrt_hr_of_day_embed = Flatten()(qrt_hr_of_day_embed)\n",
        "day_type_embed = Flatten()(day_type_embed)\n",
        "\n",
        "# pass lat lng through own network\n",
        "postional_features = Concatenate(axis=-1)([lat,lng])\n",
        "positional = Dense(1, input_dim=20)(postional_features)"
      ],
      "execution_count": 0,
      "outputs": [
        {
          "output_type": "stream",
          "text": [
            "W0806 10:21:10.230579 140341230536576 deprecation_wrapper.py:119] From /usr/local/lib/python3.6/dist-packages/keras/backend/tensorflow_backend.py:4138: The name tf.random_uniform is deprecated. Please use tf.random.uniform instead.\n",
            "\n"
          ],
          "name": "stderr"
        }
      ]
    },
    {
      "cell_type": "markdown",
      "metadata": {
        "id": "w6l87rokLdym",
        "colab_type": "text"
      },
      "source": [
        "merge layers"
      ]
    },
    {
      "cell_type": "code",
      "metadata": {
        "id": "PyXa_XysJ26a",
        "colab_type": "code",
        "colab": {}
      },
      "source": [
        "input_features = [caller_embed, stand_embed, car_embed, wk_of_year_embed, day_of_wk_embed, qrt_hr_of_day_embed, day_type_embed, positional]\n",
        "input_features = Concatenate(axis=-1)(input_features)"
      ],
      "execution_count": 0,
      "outputs": []
    },
    {
      "cell_type": "markdown",
      "metadata": {
        "id": "jPizoNFrPpjb",
        "colab_type": "text"
      },
      "source": [
        "create hidden and classification layer"
      ]
    },
    {
      "cell_type": "code",
      "metadata": {
        "id": "EhHExzyXPoX3",
        "colab_type": "code",
        "colab": {}
      },
      "source": [
        "DNN = Dense(512, activation='relu', use_bias=True, kernel_initializer='glorot_uniform', bias_initializer='zeros',\n",
        "                         kernel_regularizer=None, bias_regularizer=None, activity_regularizer=None,\n",
        "                         kernel_constraint=None, bias_constraint=None)(input_features)\n",
        "classification = Dense(len(clusters), activation='softmax')(DNN)"
      ],
      "execution_count": 0,
      "outputs": []
    },
    {
      "cell_type": "markdown",
      "metadata": {
        "id": "-C6dQyc5SbXR",
        "colab_type": "text"
      },
      "source": [
        "After getting the predictions , taking the weighted average of the cluster centers."
      ]
    },
    {
      "cell_type": "code",
      "metadata": {
        "id": "hZcuI85nTJCP",
        "colab_type": "code",
        "colab": {}
      },
      "source": [
        "cast_clusters = K.cast_to_floatx(clusters)\n",
        "destination_layer = Activation(destination)(classification)\n",
        "# gather model together\n",
        "model = Model(inputs=[caller, stand, car, wk_of_year, day_of_wk, qrt_hr_of_day, day_type, lat, lng], \n",
        "              outputs=destination_layer)"
      ],
      "execution_count": 0,
      "outputs": []
    },
    {
      "cell_type": "markdown",
      "metadata": {
        "id": "fDGWEh506oLd",
        "colab_type": "text"
      },
      "source": [
        "Defining the SGD optimizer & compiling the model"
      ]
    },
    {
      "cell_type": "code",
      "metadata": {
        "id": "IcNC9FN6ShHv",
        "colab_type": "code",
        "outputId": "13e94add-8dfe-4ffc-9782-35ca6e76e3c4",
        "colab": {
          "base_uri": "https://localhost:8080/",
          "height": 71
        }
      },
      "source": [
        "# optimizer \n",
        "optimizer = SGD(lr=0.01, momentum=0.9, clipvalue=1.)  # Use `clipvalue` to prevent exploding gradients\n",
        "model.compile(loss=tf_haversine, optimizer=optimizer)"
      ],
      "execution_count": 0,
      "outputs": [
        {
          "output_type": "stream",
          "text": [
            "W0806 10:21:10.433631 140341230536576 deprecation_wrapper.py:119] From /usr/local/lib/python3.6/dist-packages/keras/optimizers.py:790: The name tf.train.Optimizer is deprecated. Please use tf.compat.v1.train.Optimizer instead.\n",
            "\n"
          ],
          "name": "stderr"
        }
      ]
    },
    {
      "cell_type": "code",
      "metadata": {
        "id": "kd6qlToJR6mC",
        "colab_type": "code",
        "outputId": "cb289928-979c-4b8f-8200-c173d61aa9da",
        "colab": {
          "base_uri": "https://localhost:8080/",
          "height": 1000
        }
      },
      "source": [
        "# take a look at the model\n",
        "model.summary()"
      ],
      "execution_count": 0,
      "outputs": [
        {
          "output_type": "stream",
          "text": [
            "__________________________________________________________________________________________________\n",
            "Layer (type)                    Output Shape         Param #     Connected to                     \n",
            "==================================================================================================\n",
            "input_1 (InputLayer)            (None, 1)            0                                            \n",
            "__________________________________________________________________________________________________\n",
            "input_2 (InputLayer)            (None, 1)            0                                            \n",
            "__________________________________________________________________________________________________\n",
            "input_3 (InputLayer)            (None, 1)            0                                            \n",
            "__________________________________________________________________________________________________\n",
            "input_4 (InputLayer)            (None, 1)            0                                            \n",
            "__________________________________________________________________________________________________\n",
            "input_5 (InputLayer)            (None, 1)            0                                            \n",
            "__________________________________________________________________________________________________\n",
            "input_6 (InputLayer)            (None, 1)            0                                            \n",
            "__________________________________________________________________________________________________\n",
            "input_7 (InputLayer)            (None, 1)            0                                            \n",
            "__________________________________________________________________________________________________\n",
            "input_8 (InputLayer)            (None, 10)           0                                            \n",
            "__________________________________________________________________________________________________\n",
            "input_9 (InputLayer)            (None, 10)           0                                            \n",
            "__________________________________________________________________________________________________\n",
            "embedding_1 (Embedding)         (None, 1, 10)        570000      input_1[0][0]                    \n",
            "__________________________________________________________________________________________________\n",
            "embedding_2 (Embedding)         (None, 1, 10)        640         input_2[0][0]                    \n",
            "__________________________________________________________________________________________________\n",
            "embedding_3 (Embedding)         (None, 1, 10)        4480        input_3[0][0]                    \n",
            "__________________________________________________________________________________________________\n",
            "embedding_4 (Embedding)         (None, 1, 10)        540         input_4[0][0]                    \n",
            "__________________________________________________________________________________________________\n",
            "embedding_5 (Embedding)         (None, 1, 10)        70          input_5[0][0]                    \n",
            "__________________________________________________________________________________________________\n",
            "embedding_6 (Embedding)         (None, 1, 10)        960         input_6[0][0]                    \n",
            "__________________________________________________________________________________________________\n",
            "embedding_7 (Embedding)         (None, 1, 10)        30          input_7[0][0]                    \n",
            "__________________________________________________________________________________________________\n",
            "concatenate_1 (Concatenate)     (None, 20)           0           input_8[0][0]                    \n",
            "                                                                 input_9[0][0]                    \n",
            "__________________________________________________________________________________________________\n",
            "flatten_1 (Flatten)             (None, 10)           0           embedding_1[0][0]                \n",
            "__________________________________________________________________________________________________\n",
            "flatten_2 (Flatten)             (None, 10)           0           embedding_2[0][0]                \n",
            "__________________________________________________________________________________________________\n",
            "flatten_3 (Flatten)             (None, 10)           0           embedding_3[0][0]                \n",
            "__________________________________________________________________________________________________\n",
            "flatten_4 (Flatten)             (None, 10)           0           embedding_4[0][0]                \n",
            "__________________________________________________________________________________________________\n",
            "flatten_5 (Flatten)             (None, 10)           0           embedding_5[0][0]                \n",
            "__________________________________________________________________________________________________\n",
            "flatten_6 (Flatten)             (None, 10)           0           embedding_6[0][0]                \n",
            "__________________________________________________________________________________________________\n",
            "flatten_7 (Flatten)             (None, 10)           0           embedding_7[0][0]                \n",
            "__________________________________________________________________________________________________\n",
            "dense_1 (Dense)                 (None, 1)            21          concatenate_1[0][0]              \n",
            "__________________________________________________________________________________________________\n",
            "concatenate_2 (Concatenate)     (None, 71)           0           flatten_1[0][0]                  \n",
            "                                                                 flatten_2[0][0]                  \n",
            "                                                                 flatten_3[0][0]                  \n",
            "                                                                 flatten_4[0][0]                  \n",
            "                                                                 flatten_5[0][0]                  \n",
            "                                                                 flatten_6[0][0]                  \n",
            "                                                                 flatten_7[0][0]                  \n",
            "                                                                 dense_1[0][0]                    \n",
            "__________________________________________________________________________________________________\n",
            "dense_2 (Dense)                 (None, 512)          36864       concatenate_2[0][0]              \n",
            "__________________________________________________________________________________________________\n",
            "dense_3 (Dense)                 (None, 6481)         3324753     dense_2[0][0]                    \n",
            "__________________________________________________________________________________________________\n",
            "activation_1 (Activation)       (None, 6481)         0           dense_3[0][0]                    \n",
            "==================================================================================================\n",
            "Total params: 3,938,358\n",
            "Trainable params: 3,938,358\n",
            "Non-trainable params: 0\n",
            "__________________________________________________________________________________________________\n"
          ],
          "name": "stdout"
        }
      ]
    },
    {
      "cell_type": "markdown",
      "metadata": {
        "id": "bWWJyhZ1cSqQ",
        "colab_type": "text"
      },
      "source": [
        "Random guess averages 6-7 Km difference with ground truth.\n",
        "\n",
        "Fitting the model.."
      ]
    },
    {
      "cell_type": "code",
      "metadata": {
        "id": "b7JYDAy7dIEy",
        "colab_type": "code",
        "colab": {}
      },
      "source": [
        "history = model.fit([caller_data, stand_data, car_data,\n",
        "                     wk_of_year_data, day_of_wk_data, qrt_hr_of_day_data,\n",
        "                     day_type_data, lat_data, lng_data], \n",
        "                     y=target, validation_split=0.2,batch_size = 200, epochs=5)"
      ],
      "execution_count": 0,
      "outputs": []
    }
  ]
}