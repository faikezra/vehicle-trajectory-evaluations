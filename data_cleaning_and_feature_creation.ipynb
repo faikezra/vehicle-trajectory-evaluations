{
  "nbformat": 4,
  "nbformat_minor": 0,
  "metadata": {
    "colab": {
      "name": "data_cleaning_and_feature_creation.ipynb",
      "version": "0.3.2",
      "provenance": [],
      "machine_shape": "hm"
    },
    "kernelspec": {
      "name": "python3",
      "display_name": "Python 3"
    }
  },
  "cells": [
    {
      "cell_type": "code",
      "metadata": {
        "id": "HDQf_Cmf_5Mu",
        "colab_type": "code",
        "colab": {}
      },
      "source": [
        "import ast\n",
        "import pickle\n",
        "import datetime\n",
        "import numpy as np\n",
        "import pandas as pd\n",
        "import seaborn as sns\n",
        "import matplotlib.pyplot as plt\n",
        "from random import sample\n",
        "from sklearn.cluster import MeanShift\n",
        "from sklearn.cluster import estimate_bandwidth"
      ],
      "execution_count": 0,
      "outputs": []
    },
    {
      "cell_type": "code",
      "metadata": {
        "id": "gbqtAqLAAW5K",
        "colab_type": "code",
        "colab": {}
      },
      "source": [
        "data = pd.read_csv('drive/My Drive/treject/train.csv')"
      ],
      "execution_count": 0,
      "outputs": []
    },
    {
      "cell_type": "markdown",
      "metadata": {
        "id": "3Y0laiWHAuQ9",
        "colab_type": "text"
      },
      "source": [
        "Amount of data is 1710670 records.."
      ]
    },
    {
      "cell_type": "code",
      "metadata": {
        "id": "D-dnNgaXAtPb",
        "colab_type": "code",
        "outputId": "0130a5f6-264c-4d9d-90e3-5821c830eada",
        "colab": {
          "base_uri": "https://localhost:8080/",
          "height": 187
        }
      },
      "source": [
        "data.dtypes"
      ],
      "execution_count": 0,
      "outputs": [
        {
          "output_type": "execute_result",
          "data": {
            "text/plain": [
              "TRIP_ID           int64\n",
              "CALL_TYPE        object\n",
              "ORIGIN_CALL     float64\n",
              "ORIGIN_STAND    float64\n",
              "TAXI_ID           int64\n",
              "TIMESTAMP         int64\n",
              "DAY_TYPE         object\n",
              "MISSING_DATA       bool\n",
              "POLYLINE         object\n",
              "dtype: object"
            ]
          },
          "metadata": {
            "tags": []
          },
          "execution_count": 4
        }
      ]
    },
    {
      "cell_type": "code",
      "metadata": {
        "id": "9R74xRjDAmiL",
        "colab_type": "code",
        "outputId": "c3a4572d-c5df-4692-e3a4-3de87791470a",
        "colab": {
          "base_uri": "https://localhost:8080/",
          "height": 394
        }
      },
      "source": [
        "data.head()"
      ],
      "execution_count": 0,
      "outputs": [
        {
          "output_type": "execute_result",
          "data": {
            "text/html": [
              "<div>\n",
              "<style scoped>\n",
              "    .dataframe tbody tr th:only-of-type {\n",
              "        vertical-align: middle;\n",
              "    }\n",
              "\n",
              "    .dataframe tbody tr th {\n",
              "        vertical-align: top;\n",
              "    }\n",
              "\n",
              "    .dataframe thead th {\n",
              "        text-align: right;\n",
              "    }\n",
              "</style>\n",
              "<table border=\"1\" class=\"dataframe\">\n",
              "  <thead>\n",
              "    <tr style=\"text-align: right;\">\n",
              "      <th></th>\n",
              "      <th>TRIP_ID</th>\n",
              "      <th>CALL_TYPE</th>\n",
              "      <th>ORIGIN_CALL</th>\n",
              "      <th>ORIGIN_STAND</th>\n",
              "      <th>TAXI_ID</th>\n",
              "      <th>TIMESTAMP</th>\n",
              "      <th>DAY_TYPE</th>\n",
              "      <th>MISSING_DATA</th>\n",
              "      <th>POLYLINE</th>\n",
              "    </tr>\n",
              "  </thead>\n",
              "  <tbody>\n",
              "    <tr>\n",
              "      <th>0</th>\n",
              "      <td>1372636858620000589</td>\n",
              "      <td>C</td>\n",
              "      <td>NaN</td>\n",
              "      <td>NaN</td>\n",
              "      <td>20000589</td>\n",
              "      <td>1372636858</td>\n",
              "      <td>A</td>\n",
              "      <td>False</td>\n",
              "      <td>[[-8.618643,41.141412],[-8.618499,41.141376],[...</td>\n",
              "    </tr>\n",
              "    <tr>\n",
              "      <th>1</th>\n",
              "      <td>1372637303620000596</td>\n",
              "      <td>B</td>\n",
              "      <td>NaN</td>\n",
              "      <td>7.0</td>\n",
              "      <td>20000596</td>\n",
              "      <td>1372637303</td>\n",
              "      <td>A</td>\n",
              "      <td>False</td>\n",
              "      <td>[[-8.639847,41.159826],[-8.640351,41.159871],[...</td>\n",
              "    </tr>\n",
              "    <tr>\n",
              "      <th>2</th>\n",
              "      <td>1372636951620000320</td>\n",
              "      <td>C</td>\n",
              "      <td>NaN</td>\n",
              "      <td>NaN</td>\n",
              "      <td>20000320</td>\n",
              "      <td>1372636951</td>\n",
              "      <td>A</td>\n",
              "      <td>False</td>\n",
              "      <td>[[-8.612964,41.140359],[-8.613378,41.14035],[-...</td>\n",
              "    </tr>\n",
              "    <tr>\n",
              "      <th>3</th>\n",
              "      <td>1372636854620000520</td>\n",
              "      <td>C</td>\n",
              "      <td>NaN</td>\n",
              "      <td>NaN</td>\n",
              "      <td>20000520</td>\n",
              "      <td>1372636854</td>\n",
              "      <td>A</td>\n",
              "      <td>False</td>\n",
              "      <td>[[-8.574678,41.151951],[-8.574705,41.151942],[...</td>\n",
              "    </tr>\n",
              "    <tr>\n",
              "      <th>4</th>\n",
              "      <td>1372637091620000337</td>\n",
              "      <td>C</td>\n",
              "      <td>NaN</td>\n",
              "      <td>NaN</td>\n",
              "      <td>20000337</td>\n",
              "      <td>1372637091</td>\n",
              "      <td>A</td>\n",
              "      <td>False</td>\n",
              "      <td>[[-8.645994,41.18049],[-8.645949,41.180517],[-...</td>\n",
              "    </tr>\n",
              "  </tbody>\n",
              "</table>\n",
              "</div>"
            ],
            "text/plain": [
              "               TRIP_ID  ...                                           POLYLINE\n",
              "0  1372636858620000589  ...  [[-8.618643,41.141412],[-8.618499,41.141376],[...\n",
              "1  1372637303620000596  ...  [[-8.639847,41.159826],[-8.640351,41.159871],[...\n",
              "2  1372636951620000320  ...  [[-8.612964,41.140359],[-8.613378,41.14035],[-...\n",
              "3  1372636854620000520  ...  [[-8.574678,41.151951],[-8.574705,41.151942],[...\n",
              "4  1372637091620000337  ...  [[-8.645994,41.18049],[-8.645949,41.180517],[-...\n",
              "\n",
              "[5 rows x 9 columns]"
            ]
          },
          "metadata": {
            "tags": []
          },
          "execution_count": 5
        }
      ]
    },
    {
      "cell_type": "markdown",
      "metadata": {
        "id": "QSc2wPyWAXVX",
        "colab_type": "text"
      },
      "source": [
        "### Removing some data points (to save some processing time, and to clean some data points)"
      ]
    },
    {
      "cell_type": "markdown",
      "metadata": {
        "id": "j9JQeW5SDWsI",
        "colab_type": "text"
      },
      "source": [
        "There are some trips that do not have a record for some reason .. Get rid of those "
      ]
    },
    {
      "cell_type": "code",
      "metadata": {
        "id": "mNDT8jYiDD-S",
        "colab_type": "code",
        "outputId": "82c10b92-41bd-4b94-d101-94e07aafb15c",
        "colab": {
          "base_uri": "https://localhost:8080/",
          "height": 286
        }
      },
      "source": [
        "data = data[data.POLYLINE != '[]']\n",
        "travel_time = [15*len(ast.literal_eval(record)) for record in data.POLYLINE]\n",
        "data = data.reset_index()\n",
        "sns.distplot(travel_time)"
      ],
      "execution_count": 0,
      "outputs": [
        {
          "output_type": "execute_result",
          "data": {
            "text/plain": [
              "<matplotlib.axes._subplots.AxesSubplot at 0x7f986b90a9b0>"
            ]
          },
          "metadata": {
            "tags": []
          },
          "execution_count": 6
        },
        {
          "output_type": "display_data",
          "data": {
            "image/png": "[encoded data removed]",
            "text/plain": [
              "<Figure size 432x288 with 1 Axes>"
            ]
          },
          "metadata": {
            "tags": []
          }
        }
      ]
    },
    {
      "cell_type": "code",
      "metadata": {
        "id": "9g1UVayAJH1L",
        "colab_type": "code",
        "outputId": "21390cd2-1390-4594-f9f6-c0f6ecb510d2",
        "colab": {
          "base_uri": "https://localhost:8080/",
          "height": 34
        }
      },
      "source": [
        "np.quantile(travel_time, .05)"
      ],
      "execution_count": 0,
      "outputs": [
        {
          "output_type": "execute_result",
          "data": {
            "text/plain": [
              "195.0"
            ]
          },
          "metadata": {
            "tags": []
          },
          "execution_count": 7
        }
      ]
    },
    {
      "cell_type": "code",
      "metadata": {
        "id": "jze-ODTPKRYk",
        "colab_type": "code",
        "outputId": "20c7fd7f-eed5-4b55-e083-411232b538ed",
        "colab": {
          "base_uri": "https://localhost:8080/",
          "height": 34
        }
      },
      "source": [
        "np.quantile(travel_time, .99)"
      ],
      "execution_count": 0,
      "outputs": [
        {
          "output_type": "execute_result",
          "data": {
            "text/plain": [
              "2835.0"
            ]
          },
          "metadata": {
            "tags": []
          },
          "execution_count": 8
        }
      ]
    },
    {
      "cell_type": "markdown",
      "metadata": {
        "id": "AMlvgyAhKQBk",
        "colab_type": "text"
      },
      "source": [
        "taking only rides that lasted between 195 to 2835  seconds (which is roughly between 3 to 47 minutes)"
      ]
    },
    {
      "cell_type": "code",
      "metadata": {
        "id": "MR-2yXwKLOlt",
        "colab_type": "code",
        "colab": {}
      },
      "source": [
        "data['RIDE_DURATION'] = travel_time\n",
        "data = data[data.RIDE_DURATION <= 2835 ]\n",
        "data = data[data.RIDE_DURATION >= 195 ]"
      ],
      "execution_count": 0,
      "outputs": []
    },
    {
      "cell_type": "markdown",
      "metadata": {
        "id": "tBJxXr5bANEa",
        "colab_type": "text"
      },
      "source": [
        "### **Dealing with time**"
      ]
    },
    {
      "cell_type": "code",
      "metadata": {
        "id": "PJGKjo-GAMhK",
        "colab_type": "code",
        "colab": {}
      },
      "source": [
        "data = data.reset_index()\n",
        "all_dates = (datetime.datetime.utcfromtimestamp(data.TIMESTAMP[i]).strftime('%Y-%m-%d %H:%M:%S') for i in range(len(data)))\n",
        "all_dates = [str(i) for i in all_dates]\n",
        "data['TIME'] = all_dates"
      ],
      "execution_count": 0,
      "outputs": []
    },
    {
      "cell_type": "markdown",
      "metadata": {
        "id": "hXzfv6ymAyIF",
        "colab_type": "text"
      },
      "source": [
        "Breaking time down to;\n",
        "\n",
        "\n",
        "\n",
        "*   week of year\n",
        "*   day of week\n",
        "*   quarter hour of the day\n",
        "\n"
      ]
    },
    {
      "cell_type": "code",
      "metadata": {
        "id": "Ldmj29U9Aygs",
        "colab_type": "code",
        "outputId": "ed334abf-b0ef-455b-86b9-237e2825b3b2",
        "colab": {
          "base_uri": "https://localhost:8080/",
          "height": 102
        }
      },
      "source": [
        "# example of what I mean .. random example\n",
        "print(data['TIME'][0])\n",
        "a = datetime.datetime.strptime(data['TIME'][0], \"%Y-%m-%d %H:%M:%S\")\n",
        "print('week of the year: {}'.format(a.isocalendar()[1])) # week of year\n",
        "print('day of the week.. its a wed, where monday = 0: {}'.format(a.weekday())) # day of week\n",
        "print('quarter hour of the day: {}'.format(a.hour * 4 + np.floor(a.minute / 15))) # quarter hour of the day\n",
        "print('now running above for every row and adding to dataframe..')\n",
        "\n",
        "# if resources are limited please run in a single loop\n",
        "# used list comprehension in order to express clearly \n",
        "week_of_year = [datetime.datetime.strptime(time, \"%Y-%m-%d %H:%M:%S\").isocalendar()[1] \n",
        "                for time in data['TIME']]\n",
        "day_of_week  = [datetime.datetime.strptime(time, \"%Y-%m-%d %H:%M:%S\").weekday() \n",
        "                for time in data['TIME']]\n",
        "quarter_hour = [datetime.datetime.strptime(time, \"%Y-%m-%d %H:%M:%S\").hour * 4 + \n",
        "                np.floor(datetime.datetime.strptime(time, \"%Y-%m-%d %H:%M:%S\").minute / 15) \n",
        "                for time in data['TIME']]\n",
        "\n",
        "data['WEEK_OF_YEAR'] = week_of_year\n",
        "data['DAY_OF_WEEK'] = day_of_week\n",
        "data['QUARTER_HOUR'] = quarter_hour"
      ],
      "execution_count": 0,
      "outputs": [
        {
          "output_type": "stream",
          "text": [
            "2013-07-01 00:00:58\n",
            "week of the year: 27\n",
            "day of the week.. its a wed, where monday = 0: 0\n",
            "quarter hour of the day: 0.0\n",
            "now running above for every row and adding to dataframe..\n"
          ],
          "name": "stdout"
        }
      ]
    },
    {
      "cell_type": "markdown",
      "metadata": {
        "id": "peg8PSGSA4-C",
        "colab_type": "text"
      },
      "source": [
        "dropping the UNIX Timestamp and pickle dataframe"
      ]
    },
    {
      "cell_type": "code",
      "metadata": {
        "id": "YQVwWsBGA1ZL",
        "colab_type": "code",
        "colab": {}
      },
      "source": [
        "data = data.drop(['TIMESTAMP'], axis = 1)\n",
        "# getting rid of extra index columns\n",
        "data = data.iloc[:, 2:]"
      ],
      "execution_count": 0,
      "outputs": []
    },
    {
      "cell_type": "markdown",
      "metadata": {
        "id": "mL8OO-YwBEeu",
        "colab_type": "text"
      },
      "source": [
        "### Clustering\n",
        "\n",
        "Taking all the last points of the Polylines as destinations."
      ]
    },
    {
      "cell_type": "code",
      "metadata": {
        "id": "jcwAtq_eCXe3",
        "colab_type": "code",
        "colab": {}
      },
      "source": [
        "# get all last points in polylines\n",
        "\n",
        "destinations = [ast.literal_eval(line)[-1] for line in (data.POLYLINE)]\n",
        "# these will be the labels for the network so save them for later use\n",
        "pickle.dump(destinations,open('drive/My Drive/treject/destinations.pkl','wb'))"
      ],
      "execution_count": 0,
      "outputs": []
    },
    {
      "cell_type": "markdown",
      "metadata": {
        "id": "W3hrOaHlCLnN",
        "colab_type": "text"
      },
      "source": [
        "aiming to classify what point each vehical ends up at. So we take only the last points (destination points) for all of the trips in the polyline. We then use mean shift clustering in order to give each destination a categorical label. \n",
        "\n",
        "The MeanShift implimentation of Sklearn requires a bandwith argument. If left this argument is not initialized, this rerouts the data you've input into;\n",
        "\n",
        "```\n",
        "sklearn.cluster.estimate_bandwidth\n",
        "```\n",
        "\n",
        "This method does not scale well, it will cause a major bottle neck with large amounts of data, therefore it is recommended that you manually get the bandwidth with a *subset of your data* before going into the Meanshift alg.\n",
        "\n",
        "We sample 500000 destinations, and set a low quantile to get a bandwith that provides a reasonable amount of clusters.\n",
        "\n",
        "Below one can see two visualizations;\n",
        "\n",
        "* Cluster centers\n",
        "* Cluster centers overlaying all desitnations \n",
        "\n",
        "To further prevent overhead, we round the coordinates down to the 4th decimal place (~10 meters). "
      ]
    },
    {
      "cell_type": "code",
      "metadata": {
        "id": "bWT89ZADB3wy",
        "colab_type": "code",
        "outputId": "41c33b33-fdd8-451e-c329-4edd91a787f7",
        "colab": {
          "base_uri": "https://localhost:8080/",
          "height": 34
        }
      },
      "source": [
        "destinations = [[round(x[0], 4), round(x[1], 4)] for x in destinations]\n",
        "sample_points = sample(destinations, 500000)\n",
        "bandwidth = estimate_bandwidth(sample_points, quantile=0.0002)\n",
        "print('bandwidth: {}'.format(bandwidth))   "
      ],
      "execution_count": 0,
      "outputs": [
        {
          "output_type": "stream",
          "text": [
            "bandwidth: 0.0009372213608152988\n"
          ],
          "name": "stdout"
        }
      ]
    },
    {
      "cell_type": "code",
      "metadata": {
        "id": "bHq8SIlUEh-d",
        "colab_type": "code",
        "colab": {}
      },
      "source": [
        "clustering = MeanShift(bandwidth=bandwidth, bin_seeding=True).fit(sample_points)"
      ],
      "execution_count": 0,
      "outputs": []
    },
    {
      "cell_type": "code",
      "metadata": {
        "id": "2jFgkrEaEk1O",
        "colab_type": "code",
        "outputId": "75148724-1ea1-4c46-e5fa-f4bd568f009c",
        "colab": {
          "base_uri": "https://localhost:8080/",
          "height": 34
        }
      },
      "source": [
        "print('number of clusters found: {}'.format(len(clustering.cluster_centers_)))"
      ],
      "execution_count": 0,
      "outputs": [
        {
          "output_type": "stream",
          "text": [
            "number of clusters found: 6481\n"
          ],
          "name": "stdout"
        }
      ]
    },
    {
      "cell_type": "markdown",
      "metadata": {
        "id": "Rlx8Ssp_E9UQ",
        "colab_type": "text"
      },
      "source": [
        "Plotting the clusters"
      ]
    },
    {
      "cell_type": "code",
      "metadata": {
        "id": "FBdlpwVQEms7",
        "colab_type": "code",
        "outputId": "5b842ca4-d23f-484e-b8b9-192e3695572c",
        "colab": {
          "base_uri": "https://localhost:8080/",
          "height": 1000
        }
      },
      "source": [
        "plt.figure(figsize=(20,20))\n",
        "plt.scatter(clustering.cluster_centers_[:,1], clustering.cluster_centers_[:,0], c='#cccccc', s=2)\n",
        "plt.axis('off')\n",
        "plt.gca().xaxis.set_visible(False)\n",
        "plt.gca().yaxis.set_visible(False)\n",
        "plt.gca().autoscale_view('tight')"
      ],
      "execution_count": 0,
      "outputs": [
        {
          "output_type": "display_data",
          "data": {
            "image/png": "[encoded data removed]",
            "text/plain": [
              "<Figure size 1440x1440 with 1 Axes>"
            ]
          },
          "metadata": {
            "tags": []
          }
        }
      ]
    },
    {
      "cell_type": "markdown",
      "metadata": {
        "id": "V9UJ22ndFBlv",
        "colab_type": "text"
      },
      "source": [
        "Plotting the clusters over the actual destination points"
      ]
    },
    {
      "cell_type": "code",
      "metadata": {
        "id": "S73pu-1ZEsys",
        "colab_type": "code",
        "outputId": "375acd5e-fcdc-4771-d7db-43a6496210d7",
        "colab": {
          "base_uri": "https://localhost:8080/",
          "height": 1000
        }
      },
      "source": [
        "plt.figure(figsize=(20,20))\n",
        "plt.scatter(clustering.cluster_centers_[:,1], clustering.cluster_centers_[:,0], c='#99cc99', edgecolor='None', alpha=0.7, s=40)\n",
        "plt.scatter(np.array(destinations)[:,1], np.array(destinations)[:,0], c='k', alpha=0.2, s=1)\n",
        "plt.grid('off')\n",
        "plt.axis('off')\n",
        "plt.gca().xaxis.set_visible(False)\n",
        "plt.gca().yaxis.set_visible(False)\n",
        "plt.gca().autoscale_view('tight')"
      ],
      "execution_count": 0,
      "outputs": [
        {
          "output_type": "stream",
          "text": [
            "/usr/local/lib/python3.6/dist-packages/matplotlib/cbook/__init__.py:424: MatplotlibDeprecationWarning: \n",
            "Passing one of 'on', 'true', 'off', 'false' as a boolean is deprecated; use an actual boolean (True/False) instead.\n",
            "  warn_deprecated(\"2.2\", \"Passing one of 'on', 'true', 'off', 'false' as a \"\n"
          ],
          "name": "stderr"
        },
        {
          "output_type": "display_data",
          "data": {
            "image/png": "[encoded data removed]",
            "text/plain": [
              "<Figure size 1440x1440 with 1 Axes>"
            ]
          },
          "metadata": {
            "tags": []
          }
        }
      ]
    },
    {
      "cell_type": "code",
      "metadata": {
        "id": "4CC0ojukEtyP",
        "colab_type": "code",
        "colab": {}
      },
      "source": [
        "# save cluster centers\n",
        "np.savetxt('drive/My Drive/treject/cluster_centers.txt', clustering.cluster_centers_)"
      ],
      "execution_count": 0,
      "outputs": []
    },
    {
      "cell_type": "markdown",
      "metadata": {
        "id": "L864xDz7FJfa",
        "colab_type": "text"
      },
      "source": [
        "### Generating Categorical Data and Disassembling the Polyline \n",
        "\n",
        "We are going to be using the first and last 5 points on the polyline as features in our MLP.\n",
        "\n",
        "Secondly we need to process the metadata in embedding layers, to make that process run smoothly, we will turn the meta in the dataframe to categorical. \n",
        "\n",
        "creating 20 new features ... lat1, lng1, lat2, lng2, lat3 ..., lng10 \n",
        "and creating targets"
      ]
    },
    {
      "cell_type": "code",
      "metadata": {
        "id": "vNLkXf03FQYx",
        "colab_type": "code",
        "colab": {}
      },
      "source": [
        "lat1 = []\n",
        "lat2 = []\n",
        "lat3 = []\n",
        "lat3 = []\n",
        "lat4 = []\n",
        "lat5 = []\n",
        "lat6 = []\n",
        "lat7 = []\n",
        "lat8 = []\n",
        "lat9 = []\n",
        "lat10 = []\n",
        "lng1 = []\n",
        "lng2 = []\n",
        "lng3 = []\n",
        "lng4 = []\n",
        "lng5 = []\n",
        "lng6 = []\n",
        "lng7 = []\n",
        "lng8 = []\n",
        "lng9 = []\n",
        "lng10 = []\n",
        "target_lat = []\n",
        "target_lng = []\n",
        "\n",
        "for line in data.POLYLINE:\n",
        "  \n",
        "  i = ast.literal_eval(line)\n",
        "  \n",
        "  lat1.append(i[0][0])\n",
        "  lat2.append(i[1][0])\n",
        "  lat3.append(i[2][0])\n",
        "  lat4.append(i[3][0])\n",
        "  lat5.append(i[4][0])\n",
        "  lat6.append(i[-6][0])\n",
        "  lat7.append(i[-5][0])\n",
        "  lat8.append(i[-4][0])\n",
        "  lat9.append(i[-3][0])\n",
        "  lat10.append(i[-2][0])\n",
        "  lng1.append(i[0][1])\n",
        "  lng2.append(i[1][1])\n",
        "  lng3.append(i[2][1])\n",
        "  lng4.append(i[3][1])\n",
        "  lng5.append(i[4][1])\n",
        "  lng6.append(i[-6][1])\n",
        "  lng7.append(i[-5][1])\n",
        "  lng8.append(i[-4][1])\n",
        "  lng9.append(i[-3][1])\n",
        "  lng10.append(i[-2][1])\n",
        "  target_lat.append(i[-1][0])\n",
        "  target_lng.append(i[-1][1])"
      ],
      "execution_count": 0,
      "outputs": []
    },
    {
      "cell_type": "code",
      "metadata": {
        "id": "k9rYOzoeL5Ak",
        "colab_type": "code",
        "colab": {}
      },
      "source": [
        "data['LAT_1'] = lat1\n",
        "data['LAT_2'] = lat2\n",
        "data['LAT_3'] = lat3\n",
        "data['LAT_4'] = lat4\n",
        "data['LAT_5'] = lat5\n",
        "data['LAT_6'] = lat6\n",
        "data['LAT_7'] = lat7\n",
        "data['LAT_8'] = lat8\n",
        "data['LAT_9'] = lat9\n",
        "data['LAT_10'] = lat10\n",
        "######################\n",
        "data['LNG_1'] = lng1\n",
        "data['LNG_2'] = lng2\n",
        "data['LNG_3'] = lng3\n",
        "data['LNG_4'] = lng4\n",
        "data['LNG_5'] = lng5\n",
        "data['LNG_6'] = lng6\n",
        "data['LNG_7'] = lng7\n",
        "data['LNG_8'] = lng8\n",
        "data['LNG_9'] = lng9\n",
        "data['LNG_10'] = lng10\n",
        "######################\n",
        "data['TARGET_LAT'] = target_lat\n",
        "data['TARGET_LNG'] = target_lng"
      ],
      "execution_count": 0,
      "outputs": []
    },
    {
      "cell_type": "code",
      "metadata": {
        "id": "sqDAwfa7MF7m",
        "colab_type": "code",
        "colab": {}
      },
      "source": [
        "# categorizing meta data\n",
        "data = data.fillna(0)\n",
        "data.ORIGIN_CALL = pd.Categorical(data.ORIGIN_CALL)\n",
        "data.ORIGIN_STAND = pd.Categorical(data.ORIGIN_STAND)\n",
        "data.TAXI_ID = pd.Categorical(data.TAXI_ID)\n",
        "data.DAY_TYPE = pd.Categorical(data.DAY_TYPE)\n",
        "data.CALL_TYPE = pd.Categorical(data.CALL_TYPE)\n",
        "\n",
        "data.ORIGIN_CALL = data.ORIGIN_CALL.cat.codes\n",
        "data.ORIGIN_STAND = data.ORIGIN_STAND.cat.codes\n",
        "data.TAXI_ID = data.TAXI_ID.cat.codes\n",
        "data.DAY_TYPE = data.DAY_TYPE.cat.codes\n",
        "data.CALL_TYPE = data.CALL_TYPE.cat.codes"
      ],
      "execution_count": 0,
      "outputs": []
    },
    {
      "cell_type": "code",
      "metadata": {
        "id": "Y6Fd7QaxMLGH",
        "colab_type": "code",
        "colab": {}
      },
      "source": [
        "# saving the features \n",
        "data.to_pickle('drive/My Drive/treject/mlp_feed.pkl')"
      ],
      "execution_count": 0,
      "outputs": []
    }
  ]
}